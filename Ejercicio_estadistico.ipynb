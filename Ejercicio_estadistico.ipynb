{
  "nbformat": 4,
  "nbformat_minor": 0,
  "metadata": {
    "colab": {
      "provenance": [],
      "authorship_tag": "ABX9TyN3/jOwi2V7lN1TfsqscZXV",
      "include_colab_link": true
    },
    "kernelspec": {
      "name": "python3",
      "display_name": "Python 3"
    },
    "language_info": {
      "name": "python"
    }
  },
  "cells": [
    {
      "cell_type": "markdown",
      "metadata": {
        "id": "view-in-github",
        "colab_type": "text"
      },
      "source": [
        "<a href=\"https://colab.research.google.com/github/LilianaRemisio/CursoGit/blob/main/Ejercicio_estadistico.ipynb\" target=\"_parent\"><img src=\"https://colab.research.google.com/assets/colab-badge.svg\" alt=\"Open In Colab\"/></a>"
      ]
    },
    {
      "cell_type": "code",
      "execution_count": 67,
      "metadata": {
        "colab": {
          "base_uri": "https://localhost:8080/"
        },
        "id": "aSBvQuMv0EZa",
        "outputId": "5ef5e1ba-8d3a-47f3-f410-37d81a4a3cca"
      },
      "outputs": [
        {
          "output_type": "stream",
          "name": "stdout",
          "text": [
            "la media de la lista [4, 5, 1, 4, 3] es 3.4\n",
            "la mediana de la lista [4, 5, 1, 4, 3] es 4\n",
            "la moda de la lista [1, 3, 4, 4, 5] es 4\n",
            "la varianza de la lista [1, 3, 4, 4, 5] es 1.8400000000000003\n",
            "la desviacion estandar de la lista [1, 3, 4, 4, 5] es 1.3564659966250538\n",
            "el coeficiente de variacion de la lista [1, 3, 4, 4, 5] es 39.90%\n",
            "la lista normalizada de la lista [1, 3, 4, 4, 5] es [-1.7693034738587652, -0.29488391230979416, 0.4423258684646914, 0.4423258684646914, 1.1795356492391769]\n"
          ]
        }
      ],
      "source": [
        "\n",
        "# Lista de números\n",
        "lista = [4, 5, 1, 4, 3]\n",
        "\n",
        "# Función para calcular la media de la lista\n",
        "#La media es el promedio de todos los números en la lista.\n",
        "def media(lista):\n",
        "    # Calcula la longitud de la lista\n",
        "    largo_lista = len(lista)\n",
        "    # Inicializa la suma en 0\n",
        "    suma = 0\n",
        "    # Recorre cada número en la lista y lo suma\n",
        "    for i in lista:\n",
        "        suma = suma + i\n",
        "    # Calcula la media dividiendo la suma por la longitud de la lista\n",
        "    media = suma / largo_lista\n",
        "    return media\n",
        "\n",
        "# Imprime la media de la lista\n",
        "print(f\"La media de la lista {lista} es {media(lista)}\")\n",
        "\n",
        "# Función para calcular la mediana de la lista\n",
        "# La mediana es el valor central en una lista ordenada de números.\n",
        "def mediana(lista):\n",
        "    # Ordena la lista de menor a mayor\n",
        "    lista.sort()\n",
        "    # Calcula la longitud de la lista\n",
        "    largo_lista = len(lista)\n",
        "    # Inicializa la mediana en 0\n",
        "    mediana = 0\n",
        "    # Si la longitud de la lista es par\n",
        "    if largo_lista % 2 == 0:\n",
        "        # La mediana es el promedio de los dos números centrales\n",
        "        mediana = (lista[largo_lista // 2] + lista[largo_lista // 2 - 1]) / 2\n",
        "    else:\n",
        "        # Si es impar, la mediana es el número central\n",
        "        mediana = lista[largo_lista // 2]\n",
        "    return mediana\n",
        "\n",
        "# Imprime la mediana de la lista\n",
        "print(f\"La mediana de la lista {lista} es {mediana(lista)}\")\n",
        "\n",
        "# Función para calcular la moda de la lista\n",
        "# La moda es el número que aparece con mayor frecuencia en la lista.\n",
        "def moda(lista):\n",
        "    # Inicializa la moda en 0\n",
        "    moda = 0\n",
        "    # Recorre cada número en la lista\n",
        "    for i in lista:\n",
        "        # Si el número actual aparece más veces que la moda actual\n",
        "        if lista.count(i) > lista.count(moda):\n",
        "            # Actualiza la moda\n",
        "            moda = i\n",
        "    return moda\n",
        "\n",
        "# Imprime la moda de la lista\n",
        "print(f\"La moda de la lista {lista} es {moda(lista)}\")\n",
        "\n",
        "# Función para calcular la varianza de la lista\n",
        "# La varianza mide cuánto se dispersan los números de la lista respecto a la media.\n",
        "def varianza(lista):\n",
        "    # Calcula la media de la lista\n",
        "    med = media(lista)\n",
        "    # Inicializa la varianza en 0\n",
        "    varianza = 0\n",
        "    # Recorre cada número en la lista\n",
        "    for i in lista:\n",
        "        # Suma el cuadrado de la diferencia entre el número y la media\n",
        "        varianza = varianza + ((i - med) ** 2)\n",
        "        i = i + 1\n",
        "    # Divide la suma de las diferencias cuadradas por la longitud de la lista\n",
        "    varianza = varianza / len(lista)\n",
        "    return varianza\n",
        "\n",
        "# Imprime la varianza de la lista\n",
        "print(f\"La varianza de la lista {lista} es {varianza(lista)}\")\n",
        "\n",
        "# Función para calcular la desviación estándar de la lista\n",
        "# La desviación estándar mide la dispersión de los números de la lista respecto a la media, expresada en las mismas unidades.\n",
        "def desviacion_estandar(lista):\n",
        "    # Calcula la varianza de la lista\n",
        "    v = varianza(lista)\n",
        "    # Calcula la raíz cuadrada de la varianza\n",
        "    desviacion_estandar = v ** (1/2)\n",
        "    return desviacion_estandar\n",
        "\n",
        "# Imprime la desviación estándar de la lista\n",
        "print(f\"La desviación estándar de la lista {lista} es {desviacion_estandar(lista)}\")\n",
        "\n",
        "# Función para calcular el coeficiente de variación de la lista\n",
        "# El coeficiente de variación expresa la desviación estándar como un porcentaje de la media.\n",
        "def coeficiente_variacion(lista):\n",
        "    # Calcula la desviación estándar de la lista\n",
        "    de = desviacion_estandar(lista)\n",
        "    # Calcula la media de la lista\n",
        "    med = media(lista)\n",
        "    # Calcula el coeficiente de variación como el porcentaje de la desviación estándar sobre la media\n",
        "    coeficiente_variacion = (de / med) * 100\n",
        "    return \"{:.2f}\".format(coeficiente_variacion)\n",
        "\n",
        "# Imprime el coeficiente de variación de la lista\n",
        "print(f\"El coeficiente de variación de la lista {lista} es {coeficiente_variacion(lista)}%\")\n",
        "\n",
        "# Función para normalizar la lista usando la normalización Z\n",
        "# La normalización Z transforma los datos a una escala con una media de 0 y una desviación estándar de 1.\n",
        "def normalizacion_z(lista):\n",
        "    # Inicializa la lista normalizada\n",
        "    lista_normalizada = []\n",
        "    # Calcula la media de la lista\n",
        "    med = media(lista)\n",
        "    # Calcula la desviación estándar de la lista\n",
        "    de = desviacion_estandar(lista)\n",
        "    # Recorre cada número en la lista\n",
        "    for i in lista:\n",
        "        # Aplica la fórmula de normalización Z-score y añade el resultado a la lista normalizada\n",
        "        lista_normalizada.append((i - med) / de)\n",
        "    return lista_normalizada\n",
        "\n",
        "# Imprime la lista normalizada\n",
        "print(f\"La lista normalizada de la lista {lista} es {normalizacion_z(lista)}\")\n",
        "\n"
      ]
    },
    {
      "cell_type": "markdown",
      "source": [
        "Referencias\n",
        "\n",
        "González Duque, R. (2023). Python para todos. Disponible en Biblioteca del Programador.\n",
        "\n",
        "González Duque, R. (2023). Fundamentos de Estadística Descriptiva. Disponible en Repositorio UCC."
      ],
      "metadata": {
        "id": "PDWkABtsKtMr"
      }
    },
    {
      "cell_type": "code",
      "source": [],
      "metadata": {
        "id": "Gb0EITEsKuyo"
      },
      "execution_count": 67,
      "outputs": []
    }
  ]
}